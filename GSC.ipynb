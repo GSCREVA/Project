{
 "cells": [
  {
   "cell_type": "code",
   "execution_count": 2,
   "metadata": {},
   "outputs": [],
   "source": [
    "import tensorflow as tf\n",
    "from tensorflow.keras import layers, models\n",
    "\n",
    "model = models.Sequential()\n",
    "model.add(layers.Conv2D(32, (3, 3), activation='relu', input_shape=(150, 150, 3)))\n",
    "model.add(layers.MaxPooling2D((2, 2)))\n",
    "model.add(layers.Conv2D(64, (3, 3), activation='relu'))\n",
    "model.add(layers.MaxPooling2D((2, 2)))\n",
    "model.add(layers.Conv2D(128, (3, 3), activation='relu'))\n",
    "model.add(layers.MaxPooling2D((2, 2)))\n",
    "model.add(layers.Flatten())\n",
    "model.add(layers.Dense(128, activation='relu'))\n",
    "model.add(layers.Dense(13, activation='softmax'))\n",
    "\n",
    "model.compile(optimizer='adam',\n",
    "              loss='categorical_crossentropy',\n",
    "              metrics=['accuracy'])"
   ]
  },
  {
   "cell_type": "code",
   "execution_count": 5,
   "metadata": {},
   "outputs": [],
   "source": [
    "train_dir = 'C:/Users/panch/OneDrive/Desktop/dataset/Training'\n",
    "validation_dir = 'C:/Users/panch/OneDrive/Desktop/dataset/testing'"
   ]
  },
  {
   "cell_type": "code",
   "execution_count": 6,
   "metadata": {},
   "outputs": [
    {
     "name": "stdout",
     "output_type": "stream",
     "text": [
      "Found 739 images belonging to 13 classes.\n"
     ]
    },
    {
     "name": "stdout",
     "output_type": "stream",
     "text": [
      "Found 739 images belonging to 13 classes.\n"
     ]
    }
   ],
   "source": [
    "from tensorflow.keras.preprocessing.image import ImageDataGenerator\n",
    "\n",
    "train_datagen = ImageDataGenerator(rescale=1./255)\n",
    "test_datagen = ImageDataGenerator(rescale=1./255)\n",
    "\n",
    "train_generator = train_datagen.flow_from_directory(train_dir,\n",
    "    target_size=(150, 150),\n",
    "    batch_size=20,\n",
    "    class_mode='categorical')\n",
    "\n",
    "validation_generator = test_datagen.flow_from_directory(validation_dir,\n",
    "    target_size=(150, 150),\n",
    "    batch_size=20,\n",
    "    class_mode='categorical')\n"
   ]
  },
  {
   "cell_type": "code",
   "execution_count": 7,
   "metadata": {},
   "outputs": [
    {
     "name": "stdout",
     "output_type": "stream",
     "text": [
      "Epoch 1/10\n",
      "37/37 [==============================] - 43s 1s/step - loss: 2.5528 - accuracy: 0.1123 - val_loss: 2.4291 - val_accuracy: 0.1340\n",
      "Epoch 2/10\n",
      "37/37 [==============================] - 23s 617ms/step - loss: 2.3419 - accuracy: 0.2070 - val_loss: 2.1193 - val_accuracy: 0.2774\n",
      "Epoch 3/10\n",
      "37/37 [==============================] - 22s 610ms/step - loss: 1.9922 - accuracy: 0.3478 - val_loss: 1.6866 - val_accuracy: 0.4533\n",
      "Epoch 4/10\n",
      "37/37 [==============================] - 23s 613ms/step - loss: 1.6158 - accuracy: 0.4993 - val_loss: 1.2465 - val_accuracy: 0.6441\n",
      "Epoch 5/10\n",
      "37/37 [==============================] - 22s 599ms/step - loss: 1.2192 - accuracy: 0.6116 - val_loss: 0.8345 - val_accuracy: 0.8133\n",
      "Epoch 6/10\n",
      "37/37 [==============================] - 22s 608ms/step - loss: 0.7213 - accuracy: 0.7740 - val_loss: 0.5143 - val_accuracy: 0.8769\n",
      "Epoch 7/10\n",
      "37/37 [==============================] - 22s 604ms/step - loss: 0.4458 - accuracy: 0.8769 - val_loss: 0.2882 - val_accuracy: 0.9323\n",
      "Epoch 8/10\n",
      "37/37 [==============================] - 22s 610ms/step - loss: 0.2400 - accuracy: 0.9459 - val_loss: 0.0890 - val_accuracy: 0.9865\n",
      "Epoch 9/10\n",
      "37/37 [==============================] - 22s 607ms/step - loss: 0.0958 - accuracy: 0.9838 - val_loss: 0.0654 - val_accuracy: 0.9932\n",
      "Epoch 10/10\n",
      "37/37 [==============================] - 22s 607ms/step - loss: 0.0629 - accuracy: 0.9932 - val_loss: 0.0480 - val_accuracy: 0.9905\n"
     ]
    },
    {
     "data": {
      "text/plain": [
       "<keras.src.callbacks.History at 0x16c6a6647d0>"
      ]
     },
     "execution_count": 7,
     "metadata": {},
     "output_type": "execute_result"
    }
   ],
   "source": [
    "model.fit(\n",
    "    train_generator,\n",
    "    epochs=10,\n",
    "    validation_data=validation_generator\n",
    ")\n"
   ]
  },
  {
   "cell_type": "code",
   "execution_count": null,
   "metadata": {},
   "outputs": [],
   "source": []
  },
  {
   "cell_type": "code",
   "execution_count": 9,
   "metadata": {},
   "outputs": [
    {
     "name": "stdout",
     "output_type": "stream",
     "text": [
      "37/37 [==============================] - 10s 277ms/step - loss: 0.0480 - accuracy: 0.9905\n",
      "Test accuracy: 0.9905277490615845\n"
     ]
    }
   ],
   "source": [
    "\n",
    "test_loss, test_acc = model.evaluate(validation_generator)\n",
    "print(f'Test accuracy: {test_acc}')"
   ]
  },
  {
   "cell_type": "code",
   "execution_count": 11,
   "metadata": {},
   "outputs": [
    {
     "name": "stdout",
     "output_type": "stream",
     "text": [
      "1/1 [==============================] - 0s 163ms/step\n"
     ]
    }
   ],
   "source": [
    "import numpy as np\n",
    "from tensorflow.keras.preprocessing import image\n",
    "\n",
    "img_path = 'C:/Users/panch/OneDrive/Desktop/dataset/testing/Commercial Street/1679401531925-310x400.jpg'\n",
    "img = image.load_img(img_path, target_size=(150, 150))\n",
    "img_array = image.img_to_array(img)\n",
    "img_array = np.expand_dims(img_array, axis=0)\n",
    "\n",
    "predictions = model.predict(img_array)\n",
    "predicted_class = np.argmax(predictions[0])\n"
   ]
  },
  {
   "cell_type": "code",
   "execution_count": 13,
   "metadata": {},
   "outputs": [
    {
     "name": "stdout",
     "output_type": "stream",
     "text": [
      "Predicted class index: 1\n"
     ]
    }
   ],
   "source": [
    "\n",
    "print(f\"Predicted class index: {predicted_class}\")"
   ]
  },
  {
   "cell_type": "code",
   "execution_count": 14,
   "metadata": {},
   "outputs": [
    {
     "name": "stdout",
     "output_type": "stream",
     "text": [
      "Predicted class label: Commercial Street\n"
     ]
    }
   ],
   "source": [
    "class_labels = list(train_generator.class_indices.keys())\n",
    "predicted_label = class_labels[predicted_class]\n",
    "print(f\"Predicted class label: {predicted_label}\")"
   ]
  },
  {
   "cell_type": "code",
   "execution_count": null,
   "metadata": {},
   "outputs": [],
   "source": []
  }
 ],
 "metadata": {
  "kernelspec": {
   "display_name": "Python 3",
   "language": "python",
   "name": "python3"
  },
  "language_info": {
   "codemirror_mode": {
    "name": "ipython",
    "version": 3
   },
   "file_extension": ".py",
   "mimetype": "text/x-python",
   "name": "python",
   "nbconvert_exporter": "python",
   "pygments_lexer": "ipython3",
   "version": "3.11.4"
  }
 },
 "nbformat": 4,
 "nbformat_minor": 2
}
